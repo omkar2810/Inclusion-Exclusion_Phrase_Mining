{
 "cells": [
  {
   "cell_type": "markdown",
   "metadata": {},
   "source": [
    "### Collab Notebook"
   ]
  },
  {
   "cell_type": "code",
   "execution_count": null,
   "metadata": {
    "colab": {
     "base_uri": "https://localhost:8080/",
     "height": 35
    },
    "colab_type": "code",
    "id": "4SG2t9stJ9kS",
    "outputId": "96025035-7522-4ec0-fdbe-a76da3c5f149"
   },
   "outputs": [],
   "source": [
    "from google.colab import drive\n",
    "drive.mount('/content/drive')"
   ]
  },
  {
   "cell_type": "code",
   "execution_count": null,
   "metadata": {
    "colab": {
     "base_uri": "https://localhost:8080/",
     "height": 71
    },
    "colab_type": "code",
    "id": "0-zqENb_KE-H",
    "outputId": "f8e46389-dfb7-41a6-b7cb-5805c61a1b4f"
   },
   "outputs": [],
   "source": [
    "!pip install xgboost"
   ]
  },
  {
   "cell_type": "code",
   "execution_count": null,
   "metadata": {
    "colab": {},
    "colab_type": "code",
    "id": "zYkyaLe3KTyd"
   },
   "outputs": [],
   "source": [
    "from xgboost.sklearn import XGBClassifier"
   ]
  },
  {
   "cell_type": "code",
   "execution_count": null,
   "metadata": {
    "colab": {},
    "colab_type": "code",
    "id": "bk9BUST3Kh8_"
   },
   "outputs": [],
   "source": [
    "import numpy as np\n",
    "import pandas as pd\n",
    "from keras.preprocessing.sequence import pad_sequences\n",
    "from keras.utils import to_categorical\n",
    "from sklearn.model_selection import train_test_split\n",
    "from keras.models import Model, Input, Sequential\n",
    "from keras.layers import LSTM, Embedding, Dense, TimeDistributed, Dropout, Bidirectional, SimpleRNN, Flatten,\\\n",
    "Activation, RepeatVector, Permute, merge, Lambda\n",
    "# from keras_contrib.layers import CRF\n",
    "import keras.optimizers as ko\n",
    "from sklearn.metrics import precision_score, recall_score, f1_score, classification_report\n",
    "import keras\n",
    "import subprocess\n",
    "from sklearn.utils import class_weight\n",
    "import keras.backend as K\n",
    "from keras.layers.convolutional import Conv1D, MaxPooling1D\n",
    "PATH = 'drive/My Drive/Seq_Classification/'"
   ]
  },
  {
   "cell_type": "code",
   "execution_count": null,
   "metadata": {
    "colab": {},
    "colab_type": "code",
    "id": "Pwjv9OqzKmQN"
   },
   "outputs": [],
   "source": [
    "data = pd.read_csv(PATH+'task2_typ.csv')\n",
    "data = data.rename(columns={'id':'Sentence #'})\n",
    "data = data.dropna(axis=0)\n",
    "# data = data.drop('Unnamed: 0',axis=1)"
   ]
  },
  {
   "cell_type": "code",
   "execution_count": null,
   "metadata": {
    "colab": {},
    "colab_type": "code",
    "id": "atBwLwHoKzSb"
   },
   "outputs": [],
   "source": [
    "sentences = []\n",
    "labels = list(data['type']) \n",
    "typs = data['types'].values\n",
    "\n",
    "x = data.apply(lambda l: sentences.append(l['sentence'].split(' ')),axis=1)\n",
    "words = []\n",
    "for sent in sentences:\n",
    "    for wrd in sent:\n",
    "        words.append(wrd)\n",
    "words = list(set(words))\n",
    "tags = list(set(labels))\n",
    "\n",
    "n_words = len(words)\n",
    "n_tags = len(tags)\n",
    "word2idx = {w: i + 1 for i, w in enumerate(words)}\n",
    "tag2idx = {t: i for i, t in enumerate(tags)}\n",
    "max_len = 30\n",
    "X = [[word2idx[w] for w in s] for s in sentences]    \n",
    "X = pad_sequences(maxlen=max_len, sequences=X, padding=\"post\", value=0)\n",
    "y = [tag2idx[tg] for tg in labels]\n",
    "# y = pad_sequences(maxlen=max_len, sequences=y, padding=\"post\", value=tag2idx[\"O\"])\n",
    "y = np.array([to_categorical(i, num_classes=n_tags) for i in y])\n",
    "y = [[y[i],typs[i]] for i in range(len(y))]\n",
    "X_train, X_test, y_train, y_test = train_test_split(X, y, test_size=0.2)\n",
    "y_train = np.array([lab[0] for lab in y_train])\n",
    "typ_test = [lab[1] for lab in y_test]\n",
    "y_test = np.array([lab[0] for lab  in y_test])"
   ]
  },
  {
   "cell_type": "code",
   "execution_count": null,
   "metadata": {
    "colab": {
     "base_uri": "https://localhost:8080/",
     "height": 53
    },
    "colab_type": "code",
    "id": "IvML-8uAK7n9",
    "outputId": "0f1d092b-0a9e-45ba-b43f-19ccb8189597"
   },
   "outputs": [
    {
     "name": "stdout",
     "output_type": "stream",
     "text": [
      "Loading Glove Model\n",
      "400000  words loaded!\n"
     ]
    }
   ],
   "source": [
    "def loadGloveModel(File):\n",
    "    print(\"Loading Glove Model\")\n",
    "    f = open(File,'r')\n",
    "    gloveModel = {}\n",
    "    for line in f:\n",
    "        splitLines = line.split()\n",
    "        word = splitLines[0]\n",
    "        wordEmbedding = np.array([float(value) for value in splitLines[1:]])\n",
    "        gloveModel[word] = wordEmbedding\n",
    "    print(len(gloveModel),\" words loaded!\")\n",
    "    return gloveModel\n",
    "\n",
    "vec_model = loadGloveModel(PATH+'glove/glove.6B.200d.txt')"
   ]
  },
  {
   "cell_type": "code",
   "execution_count": null,
   "metadata": {
    "colab": {},
    "colab_type": "code",
    "id": "Blr-MQYoK-CD"
   },
   "outputs": [],
   "source": [
    "tag2idx = {t: i for i, t in enumerate(tags)}\n",
    "max_len = 30\n",
    "X = []\n",
    "y = []\n",
    "emb_dim = len(vec_model['the'])\n",
    "for sent in sentences:\n",
    "    vec = np.zeros((30,emb_dim))\n",
    "    for i, word in enumerate(sent):\n",
    "        if word in vec_model:\n",
    "            vec[i,:] = vec_model[word]\n",
    "    X.append(vec)\n",
    "X = np.array(X)\n",
    "y = np.array([tag2idx[tg] for tg in labels])\n",
    "\n",
    "X_train, X_test, y_train, y_test = train_test_split(X,y,test_size=0.2)\n",
    "X_train = X_train.reshape((X_train.shape[0],max_len*emb_dim))\n",
    "X_test = X_test.reshape((X_test.shape[0],max_len*emb_dim))"
   ]
  },
  {
   "cell_type": "code",
   "execution_count": null,
   "metadata": {
    "colab": {},
    "colab_type": "code",
    "id": "mt3HKUwALKN0"
   },
   "outputs": [],
   "source": [
    "clf = XGBClassifier(\n",
    " learning_rate =0.1,\n",
    " n_estimators=1000,\n",
    " max_depth=5,\n",
    " min_child_weight=1,\n",
    " gamma=0,\n",
    " subsample=0.8,\n",
    " colsample_bytree=0.8,\n",
    " objective= 'binary:logistic',\n",
    " nthread=4,\n",
    " scale_pos_weight=1,\n",
    " seed=27\n",
    ")"
   ]
  },
  {
   "cell_type": "code",
   "execution_count": null,
   "metadata": {
    "colab": {
     "base_uri": "https://localhost:8080/",
     "height": 483
    },
    "colab_type": "code",
    "id": "lrnOTxBnLg6U",
    "outputId": "73883154-d5b2-4708-e995-b7cda485eed8"
   },
   "outputs": [],
   "source": [
    "clf.fit(X_train,y_train)\n",
    "pred = clf.predict(X_test)"
   ]
  },
  {
   "cell_type": "code",
   "execution_count": null,
   "metadata": {
    "colab": {
     "base_uri": "https://localhost:8080/",
     "height": 985
    },
    "colab_type": "code",
    "id": "1xkGXDdRMb1v",
    "outputId": "10e631a7-ff40-4c32-d842-3997b24a849c"
   },
   "outputs": [],
   "source": [
    "inc_test = []\n",
    "exc_test = []\n",
    "inc_pred = []\n",
    "exc_pred = []\n",
    "for i,t in enumerate(typ_test):\n",
    "    if t == 'I':\n",
    "        inc_test.append(y_test[i])\n",
    "        inc_pred.append(pred[i])\n",
    "    else:\n",
    "        exc_test.append(y_test[i])\n",
    "        exc_pred.append(pred[i])\n",
    "print(\"For inclusions\")\n",
    "report = classification_report(inc_test,inc_pred,output_dict=True)\n",
    "df = pd.DataFrame(report).transpose()\n",
    "display(df)\n",
    "print(\"For exclusions\")\n",
    "report = classification_report(exc_test,exc_pred,output_dict=True)\n",
    "df = pd.DataFrame(report).transpose()\n",
    "display(df)"
   ]
  }
 ],
 "metadata": {
  "colab": {
   "name": "xgboost.ipynb",
   "provenance": []
  },
  "kernelspec": {
   "display_name": "Python 3",
   "language": "python",
   "name": "python3"
  },
  "language_info": {
   "codemirror_mode": {
    "name": "ipython",
    "version": 3
   },
   "file_extension": ".py",
   "mimetype": "text/x-python",
   "name": "python",
   "nbconvert_exporter": "python",
   "pygments_lexer": "ipython3",
   "version": "3.6.9"
  }
 },
 "nbformat": 4,
 "nbformat_minor": 1
}
